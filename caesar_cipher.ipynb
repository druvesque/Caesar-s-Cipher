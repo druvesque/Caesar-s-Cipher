{
 "cells": [
  {
   "cell_type": "code",
   "execution_count": 12,
   "id": "6e544550-065f-4e08-9e17-3b6ccd4629ef",
   "metadata": {},
   "outputs": [
    {
     "name": "stdin",
     "output_type": "stream",
     "text": [
      "Type 'encode' to encrypt, type 'decode' to decrypt:\n",
      " encode\n",
      "Type your message:\n",
      " mark anthony, you have to assasinate brutus before he kills me\n",
      "Type the shift number:\n",
      " 8\n"
     ]
    },
    {
     "name": "stdout",
     "output_type": "stream",
     "text": [
      "Here's the encoded result: uizs ivbpwvg, gwc pidm bw iaaiaqvibm jzcbca jmnwzm pm sqtta um\n"
     ]
    }
   ],
   "source": [
    "#Caesar's cipher\n",
    "alphabet = ['a', 'b', 'c', 'd', 'e', 'f', 'g', 'h', 'i', 'j', 'k', 'l', 'm', 'n', 'o', 'p', 'q', 'r', 's', 't', 'u', 'v', 'w', 'x', 'y', 'z', 'a', 'b', 'c', 'd', 'e', 'f', 'g', 'h', 'i', 'j', 'k', 'l', 'm', 'n', 'o', 'p', 'q', 'r', 's', 't', 'u', 'v', 'w', 'x', 'y', 'z']\n",
    "direction = input(\"Type 'encode' to encrypt, type 'decode' to decrypt:\\n\")\n",
    "text = input(\"Type your message:\\n\").lower()\n",
    "shift = int(input(\"Type the shift number:\\n\"))\n",
    "\n",
    "def caesar_cipher(text, shift, direction):\n",
    "    result = \"\"\n",
    "    if direction == \"decode\":\n",
    "        shift *= -1\n",
    "    for i in text:\n",
    "        if i in alphabet:\n",
    "            pos = alphabet.index(i)\n",
    "            new_pos = pos + shift\n",
    "            result += alphabet[new_pos]\n",
    "        else:\n",
    "            result += i\n",
    "    print(f\"Here's the {direction}d result: {result}\")\n",
    "\n",
    "caesar_cipher(text, shift, direction)"
   ]
  }
 ],
 "metadata": {
  "kernelspec": {
   "display_name": "Python 3 (ipykernel)",
   "language": "python",
   "name": "python3"
  },
  "language_info": {
   "codemirror_mode": {
    "name": "ipython",
    "version": 3
   },
   "file_extension": ".py",
   "mimetype": "text/x-python",
   "name": "python",
   "nbconvert_exporter": "python",
   "pygments_lexer": "ipython3",
   "version": "3.11.7"
  }
 },
 "nbformat": 4,
 "nbformat_minor": 5
}
